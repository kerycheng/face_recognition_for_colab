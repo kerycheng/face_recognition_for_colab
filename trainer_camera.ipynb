{
  "nbformat": 4,
  "nbformat_minor": 0,
  "metadata": {
    "kernelspec": {
      "display_name": "Python 3",
      "language": "python",
      "name": "python3"
    },
    "language_info": {
      "codemirror_mode": {
        "name": "ipython",
        "version": 3
      },
      "file_extension": ".py",
      "mimetype": "text/x-python",
      "name": "python",
      "nbconvert_exporter": "python",
      "pygments_lexer": "ipython3",
      "version": "3.6.9"
    },
    "colab": {
      "name": "trainer_camera.ipynb",
      "provenance": [],
      "collapsed_sections": [],
      "include_colab_link": true
    }
  },
  "cells": [
    {
      "cell_type": "markdown",
      "metadata": {
        "id": "view-in-github",
        "colab_type": "text"
      },
      "source": [
        "<a href=\"https://colab.research.google.com/github/kerykai/face_recognition_for_colab/blob/master/trainer_camera.ipynb\" target=\"_parent\"><img src=\"https://colab.research.google.com/assets/colab-badge.svg\" alt=\"Open In Colab\"/></a>"
      ]
    },
    {
      "cell_type": "code",
      "metadata": {
        "id": "sr2gUoLe7bI_",
        "outputId": "b471b225-4e64-428e-85ae-8b154caae1de",
        "colab": {
          "base_uri": "https://localhost:8080/",
          "height": 153
        }
      },
      "source": [
        "# 連接github\n",
        "!pip install -q xlrd\n",
        "!git clone https://github.com/kerykai/face_recognition_for_colab.git"
      ],
      "execution_count": 1,
      "outputs": [
        {
          "output_type": "stream",
          "text": [
            "Cloning into 'face_recognition_for_colab'...\n",
            "remote: Enumerating objects: 8, done.\u001b[K\n",
            "remote: Counting objects: 100% (8/8), done.\u001b[K\n",
            "remote: Compressing objects: 100% (8/8), done.\u001b[K\n",
            "remote: Total 502 (delta 3), reused 0 (delta 0), pack-reused 494\n",
            "Receiving objects: 100% (502/502), 96.02 MiB | 29.99 MiB/s, done.\n",
            "Resolving deltas: 100% (40/40), done.\n",
            "Checking out files: 100% (443/443), done.\n"
          ],
          "name": "stdout"
        }
      ]
    },
    {
      "cell_type": "code",
      "metadata": {
        "id": "F_6TxY_8NwWW",
        "outputId": "e044cec2-31eb-4893-a605-f6f13bb23cbd",
        "colab": {
          "base_uri": "https://localhost:8080/",
          "height": 34
        }
      },
      "source": [
        "# 連接google_drive\n",
        "from google.colab import drive\n",
        "\n",
        "drive.mount('/content/gdrive')"
      ],
      "execution_count": 2,
      "outputs": [
        {
          "output_type": "stream",
          "text": [
            "Mounted at /content/gdrive\n"
          ],
          "name": "stdout"
        }
      ]
    },
    {
      "cell_type": "code",
      "metadata": {
        "id": "ftBTz-Z0Tl8d"
      },
      "source": [
        "import os\n",
        "\n",
        "os.chdir(\"face_recognition_for_colab/\")"
      ],
      "execution_count": 26,
      "outputs": []
    },
    {
      "cell_type": "code",
      "metadata": {
        "id": "OHd8JWhd6J4U"
      },
      "source": [
        "import cv2\n",
        "from packages import getImagesWithID as gimgwid"
      ],
      "execution_count": 32,
      "outputs": []
    },
    {
      "cell_type": "code",
      "metadata": {
        "id": "l38MS2-Y6J4Y"
      },
      "source": [
        "# 設定dataset路徑\n",
        "DATA_PATH = 'data/dataset'"
      ],
      "execution_count": 34,
      "outputs": []
    },
    {
      "cell_type": "code",
      "metadata": {
        "id": "YpRFybMe6J4b"
      },
      "source": [
        "recognizer = cv2.face.LBPHFaceRecognizer_create()\n",
        "    \n",
        "# 取得ids faces資料\n",
        "ids, faces = gimgwid.getImagesWithID(DATA_PATH)\n",
        "\n",
        "# ids比對faces\n",
        "recognizer.train(faces, ids)\n",
        "\n",
        "# 儲存訓練集\n",
        "recognizer.save('/content/gdrive/My Drive/Colab Notebooks/recognizer/trainingData.yml')"
      ],
      "execution_count": 41,
      "outputs": []
    }
  ]
}