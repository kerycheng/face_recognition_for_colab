{
 "cells": [
  {
   "cell_type": "code",
   "execution_count": 10,
   "metadata": {},
   "outputs": [],
   "source": [
    "import os\n",
    "import pickle\n",
    "from sklearn.svm import LinearSVC\n",
    "\n",
    "from packages import load_MTCNN as lmtcnn\n",
    "from packages import load_face_pkl as pkl\n"
   ]
  },
  {
   "cell_type": "code",
   "execution_count": 12,
   "metadata": {},
   "outputs": [
    {
     "name": "stdout",
     "output_type": "stream",
     "text": [
      "Origin: Number of classes: 25\n",
      "Origin: Number of images: 344\n",
      "Model filename: data/facenet/20180402-114759/20180402-114759.pb\n"
     ]
    },
    {
     "name": "stderr",
     "output_type": "stream",
     "text": [
      "100%|██████████| 688/688 [00:05<00:00, 125.73it/s]\n"
     ]
    },
    {
     "name": "stdout",
     "output_type": "stream",
     "text": [
      "人臉特徵數量: 344, shape: (344, 512), type: <class 'numpy.ndarray'>\n",
      "人臉標籤數量: 344, type: <class 'list'>\n",
      "人臉標籤種類: {}, type: {} 25 <class 'dict'>\n",
      "X_train: 319, y_train: 319\n",
      "X_test: 25, y_test: 25\n",
      "Training classifier\n",
      "Saved classifier model to file \"data/serializer/lfw_svm_classifier.pkl\"\n"
     ]
    }
   ],
   "source": [
    "DATA_PATH = 'data/' #data目錄\n",
    "    \n",
    "IMG_OUT_PATH = os.path.join(DATA_PATH, \"dataset\") #image目錄\n",
    "\n",
    "FACENET_DATA_PATH = os.path.join(DATA_PATH, \"facenet\",\"20180402-114759\",\"20180402-114759.pb\") #dacenet路徑\n",
    "\n",
    "SVM_DATA_PATH = os.path.join(DATA_PATH, \"serializer\", \"lfw_svm_classifier.pkl\") #svm路徑\n",
    "   \n",
    "    \n",
    "#----------載入MTCNN-----------#\n",
    "    \n",
    "emb_array, labels, labels_dict = lmtcnn.load_MTCNN(DATA_PATH)\n",
    "\n",
    "\n",
    "#--------------保存facenet.pkl-------------#          \n",
    "# 人臉特徵\n",
    "emb_features_file = open(os.path.join(DATA_PATH+'/recognizer', 'lfw_emb_features.pkl'), 'wb')\n",
    "pickle.dump(emb_array, emb_features_file)\n",
    "emb_features_file.close()\n",
    "\n",
    "# 矩陣\n",
    "emb_lables_file = open(os.path.join(DATA_PATH+'/recognizer', 'lfw_emb_labels.pkl'), 'wb')\n",
    "pickle.dump(labels, emb_lables_file)\n",
    "emb_lables_file.close()\n",
    "\n",
    "# user_ids\n",
    "emb_lables_dict_file = open(os.path.join(DATA_PATH+'/recognizer', 'lfw_emb_labels_dict.pkl'), 'wb')\n",
    "pickle.dump(labels_dict, emb_lables_dict_file)\n",
    "emb_lables_dict_file.close()\n",
    "    \n",
    "#-------------------準備相關變數-----------------#\n",
    "    \n",
    "# 訓練/測試變數\n",
    "X_train = []; y_train = []\n",
    "X_test = []; y_test = []\n",
    "\n",
    "# 保存己經有處理過的人臉label\n",
    "processed = set()\n",
    "    \n",
    "path = DATA_PATH + '/recognizer'\n",
    "    \n",
    "emb_features, emb_labels, emb_labels_dict, emb_dict = pkl.load_face_pkl(path, DATA_PATH)\n",
    "\n",
    "# 分割訓練資料集與驗證資料集\n",
    "for (emb_feature, emb_label) in zip(emb_features, emb_labels):\n",
    "    if emb_label in processed:\n",
    "        X_train.append(emb_feature)\n",
    "        y_train.append(emb_label)\n",
    "    else:\n",
    "        X_test.append(emb_feature)\n",
    "        y_test.append(emb_label)\n",
    "        processed.add(emb_label)\n",
    "\n",
    "# 結果\n",
    "print('X_train: {}, y_train: {}'.format(len(X_train), len(y_train)))\n",
    "print('X_test: {}, y_test: {}'.format(len(X_test), len(y_test)))\n",
    "\n",
    "\n",
    "#----------------訓練人臉分類器(SVM Classifier)-----------------#\n",
    "#使用scikit-learn的SVM分類器來進行訓練。\n",
    "#使用linearSvc來訓練\n",
    "\n",
    "# 訓練分類器\n",
    "print('Training classifier')\n",
    "linearsvc_classifier = LinearSVC(C=1, multi_class='crammer_singer')\n",
    "\n",
    "# 進行訓練\n",
    "linearsvc_classifier.fit(X_train, y_train)\n",
    "\n",
    "classifier_filename = SVM_DATA_PATH\n",
    "\n",
    "\n",
    "class_names = []\n",
    "for key in sorted(emb_labels_dict.keys()):\n",
    "    class_names.append(emb_labels_dict[key].replace('_', ' '))\n",
    "\n",
    "\n",
    "with open(classifier_filename, 'wb') as outfile:\n",
    "    pickle.dump((linearsvc_classifier, class_names), outfile)\n",
    "\n",
    "print('Saved classifier model to file \"%s\"' % classifier_filename)\n",
    "\n",
    "face_id_name = ''"
   ]
  },
  {
   "cell_type": "code",
   "execution_count": null,
   "metadata": {},
   "outputs": [],
   "source": []
  }
 ],
 "metadata": {
  "kernelspec": {
   "display_name": "Python 3",
   "language": "python",
   "name": "python3"
  },
  "language_info": {
   "codemirror_mode": {
    "name": "ipython",
    "version": 3
   },
   "file_extension": ".py",
   "mimetype": "text/x-python",
   "name": "python",
   "nbconvert_exporter": "python",
   "pygments_lexer": "ipython3",
   "version": "3.6.9"
  }
 },
 "nbformat": 4,
 "nbformat_minor": 2
}
