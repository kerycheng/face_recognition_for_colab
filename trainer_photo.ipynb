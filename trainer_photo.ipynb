{
  "nbformat": 4,
  "nbformat_minor": 0,
  "metadata": {
    "kernelspec": {
      "display_name": "Python 3",
      "language": "python",
      "name": "python3"
    },
    "language_info": {
      "codemirror_mode": {
        "name": "ipython",
        "version": 3
      },
      "file_extension": ".py",
      "mimetype": "text/x-python",
      "name": "python",
      "nbconvert_exporter": "python",
      "pygments_lexer": "ipython3",
      "version": "3.6.9"
    },
    "colab": {
      "name": "trainer_photo.ipynb",
      "provenance": [],
      "collapsed_sections": [],
      "include_colab_link": true
    }
  },
  "cells": [
    {
      "cell_type": "markdown",
      "metadata": {
        "id": "view-in-github",
        "colab_type": "text"
      },
      "source": [
        "<a href=\"https://colab.research.google.com/github/kerykai/face_recognition_for_colab/blob/master/trainer_photo.ipynb\" target=\"_parent\"><img src=\"https://colab.research.google.com/assets/colab-badge.svg\" alt=\"Open In Colab\"/></a>"
      ]
    },
    {
      "cell_type": "code",
      "metadata": {
        "id": "paiD-2lBim88",
        "outputId": "fc40896b-bd20-47fe-cddc-ffb19e9ed05b",
        "colab": {
          "base_uri": "https://localhost:8080/",
          "height": 51
        }
      },
      "source": [
        "!pip install scipy==1.1.0"
      ],
      "execution_count": null,
      "outputs": [
        {
          "output_type": "stream",
          "text": [
            "Requirement already satisfied: scipy==1.1.0 in /usr/local/lib/python3.6/dist-packages (1.1.0)\n",
            "Requirement already satisfied: numpy>=1.8.2 in /usr/local/lib/python3.6/dist-packages (from scipy==1.1.0) (1.18.5)\n"
          ],
          "name": "stdout"
        }
      ]
    },
    {
      "cell_type": "code",
      "metadata": {
        "id": "3-W5Fq1CZU7h",
        "outputId": "73230fda-f6fb-458e-9b6d-e459d8c5dfed",
        "colab": {
          "base_uri": "https://localhost:8080/",
          "height": 120
        }
      },
      "source": [
        "%tensorflow_version 1.14\n",
        "import tensorflow as tf\n",
        "tf.__version__"
      ],
      "execution_count": null,
      "outputs": [
        {
          "output_type": "stream",
          "text": [
            "`%tensorflow_version` only switches the major version: 1.x or 2.x.\n",
            "You set: `1.14`. This will be interpreted as: `1.x`.\n",
            "\n",
            "\n",
            "TensorFlow 1.x selected.\n"
          ],
          "name": "stdout"
        },
        {
          "output_type": "execute_result",
          "data": {
            "application/vnd.google.colaboratory.intrinsic+json": {
              "type": "string"
            },
            "text/plain": [
              "'1.15.2'"
            ]
          },
          "metadata": {
            "tags": []
          },
          "execution_count": 2
        }
      ]
    },
    {
      "cell_type": "code",
      "metadata": {
        "id": "WPnbtcfhYrCB",
        "outputId": "fc38785b-32c3-4bed-9205-7670468cb321",
        "colab": {
          "base_uri": "https://localhost:8080/",
          "height": 34
        }
      },
      "source": [
        "# 連接github\n",
        "!pip install -q xlrd\n",
        "!git clone https://github.com/kerykai/face_recognition_for_colab.git"
      ],
      "execution_count": null,
      "outputs": [
        {
          "output_type": "stream",
          "text": [
            "fatal: destination path 'face_recognition_for_colab' already exists and is not an empty directory.\n"
          ],
          "name": "stdout"
        }
      ]
    },
    {
      "cell_type": "code",
      "metadata": {
        "id": "2JfnQDCAYyiu",
        "outputId": "bb8f6ee4-dc74-4813-9477-f327d40860d0",
        "colab": {
          "base_uri": "https://localhost:8080/",
          "height": 34
        }
      },
      "source": [
        "# 連接google_drive\n",
        "from google.colab import drive\n",
        "\n",
        "drive.mount('/content/gdrive')"
      ],
      "execution_count": null,
      "outputs": [
        {
          "output_type": "stream",
          "text": [
            "Drive already mounted at /content/gdrive; to attempt to forcibly remount, call drive.mount(\"/content/gdrive\", force_remount=True).\n"
          ],
          "name": "stdout"
        }
      ]
    },
    {
      "cell_type": "code",
      "metadata": {
        "id": "y27x5T9tZAOX"
      },
      "source": [
        "import os\n",
        "\n",
        "os.chdir(\"face_recognition_for_colab/\")"
      ],
      "execution_count": null,
      "outputs": []
    },
    {
      "cell_type": "code",
      "metadata": {
        "id": "i4mt187lYmxB"
      },
      "source": [
        "import os\n",
        "import pickle\n",
        "from sklearn.svm import LinearSVC\n",
        "\n",
        "from packages import load_MTCNN as lmtcnn\n",
        "from packages import load_face_pkl as pkl\n"
      ],
      "execution_count": null,
      "outputs": []
    },
    {
      "cell_type": "code",
      "metadata": {
        "id": "igrcqiIFYmxN",
        "outputId": "5c3b23ea-417e-4a75-ef47-e83d20b2a13a",
        "colab": {
          "base_uri": "https://localhost:8080/",
          "height": 357
        }
      },
      "source": [
        "DATA_PATH = 'data/' #data目錄\n",
        "    \n",
        "IMG_OUT_PATH = os.path.join(DATA_PATH, \"dataset\") #image目錄\n",
        "\n",
        "# FACENET_DATA_PATH = os.path.join(DATA_PATH, \"facenet\",\"20180402-114759\",\"20180402-114759.pb\") #dacenet路徑\n",
        "\n",
        "SVM_DATA_PATH = os.path.join(DATA_PATH, \"serializer\", \"lfw_svm_classifier.pkl\") #svm路徑\n",
        "\n",
        "COLAB_PATH = '/content/gdrive/My Drive/Colab Notebooks'\n",
        "   \n",
        "    \n",
        "#----------載入MTCNN-----------#\n",
        "    \n",
        "emb_array, labels, labels_dict = lmtcnn.load_MTCNN(DATA_PATH)\n",
        "\n",
        "#--------------保存facenet.pkl-------------#          \n",
        "# 人臉特徵\n",
        "emb_features_file = open(os.path.join(COLAB_PATH + '/recognizer', 'lfw_emb_features.pkl'), 'wb')\n",
        "pickle.dump(emb_array, emb_features_file)\n",
        "emb_features_file.close()\n",
        "\n",
        "# 矩陣\n",
        "emb_lables_file = open(os.path.join(COLAB_PATH + '/recognizer', 'lfw_emb_labels.pkl'), 'wb')\n",
        "pickle.dump(labels, emb_lables_file)\n",
        "emb_lables_file.close()\n",
        "\n",
        "# user_ids\n",
        "emb_lables_dict_file = open(os.path.join(COLAB_PATH + '/recognizer', 'lfw_emb_labels_dict.pkl'), 'wb')\n",
        "pickle.dump(labels_dict, emb_lables_dict_file)\n",
        "emb_lables_dict_file.close()\n",
        "    \n",
        "#-------------------準備相關變數-----------------#\n",
        "    \n",
        "# 訓練/測試變數\n",
        "X_train = []; y_train = []\n",
        "X_test = []; y_test = []\n",
        "\n",
        "# 保存己經有處理過的人臉label\n",
        "processed = set()\n",
        "    \n",
        "path = COLAB_PATH + '/recognizer'\n",
        "    \n",
        "emb_features, emb_labels, emb_labels_dict, emb_dict = pkl.load_face_pkl(path, COLAB_PATH)\n",
        "\n",
        "# 分割訓練資料集與驗證資料集\n",
        "for (emb_feature, emb_label) in zip(emb_features, emb_labels):\n",
        "    if emb_label in processed:\n",
        "        X_train.append(emb_feature)\n",
        "        y_train.append(emb_label)\n",
        "    else:\n",
        "        X_test.append(emb_feature)\n",
        "        y_test.append(emb_label)\n",
        "        processed.add(emb_label)\n",
        "\n",
        "# 結果\n",
        "print('X_train: {}, y_train: {}'.format(len(X_train), len(y_train)))\n",
        "print('X_test: {}, y_test: {}'.format(len(X_test), len(y_test)))\n",
        "\n",
        "\n",
        "#----------------訓練人臉分類器(SVM Classifier)-----------------#\n",
        "#使用scikit-learn的SVM分類器來進行訓練。\n",
        "#使用linearSvc來訓練\n",
        "\n",
        "# 訓練分類器\n",
        "print('Training classifier')\n",
        "linearsvc_classifier = LinearSVC(C=1, multi_class='crammer_singer')\n",
        "\n",
        "# 進行訓練\n",
        "linearsvc_classifier.fit(X_train, y_train)\n",
        "\n",
        "classifier_filename = SVM_DATA_PATH\n",
        "\n",
        "\n",
        "class_names = []\n",
        "for key in sorted(emb_labels_dict.keys()):\n",
        "    class_names.append(emb_labels_dict[key].replace('_', ' '))\n",
        "\n",
        "\n",
        "with open(classifier_filename, 'wb') as outfile:\n",
        "    pickle.dump((linearsvc_classifier, class_names), outfile)\n",
        "\n",
        "print('Saved classifier model to file \"%s\"' % classifier_filename)\n",
        "\n",
        "face_id_name = ''"
      ],
      "execution_count": null,
      "outputs": [
        {
          "output_type": "stream",
          "text": [
            "WARNING:tensorflow:From /content/face_recognition_for_colab/packages/load_MTCNN.py:14: The name tf.Session is deprecated. Please use tf.compat.v1.Session instead.\n",
            "\n",
            "Origin: Number of classes: 25\n",
            "Origin: Number of images: 344\n",
            "Model filename: /content/gdrive/My Drive/Colab Notebooks/facenet/20180402-114759/20180402-114759.pb\n",
            "WARNING:tensorflow:From /content/face_recognition_for_colab/data/facenet.py:441: FastGFile.__init__ (from tensorflow.python.platform.gfile) is deprecated and will be removed in a future version.\n",
            "Instructions for updating:\n",
            "Use tf.gfile.GFile.\n",
            "WARNING:tensorflow:From /content/face_recognition_for_colab/packages/load_MTCNN.py:37: The name tf.get_default_graph is deprecated. Please use tf.compat.v1.get_default_graph instead.\n",
            "\n"
          ],
          "name": "stdout"
        },
        {
          "output_type": "stream",
          "text": [
            "100%|██████████| 688/688 [00:23<00:00, 29.26it/s] \n"
          ],
          "name": "stderr"
        },
        {
          "output_type": "stream",
          "text": [
            "人臉特徵數量: 344, shape: (344, 512), type: <class 'numpy.ndarray'>\n",
            "人臉標籤數量: 344, type: <class 'list'>\n",
            "人臉標籤種類: {}, type: {} 25 <class 'dict'>\n",
            "X_train: 319, y_train: 319\n",
            "X_test: 25, y_test: 25\n",
            "Training classifier\n",
            "Saved classifier model to file \"data/serializer/lfw_svm_classifier.pkl\"\n"
          ],
          "name": "stdout"
        },
        {
          "output_type": "stream",
          "text": [
            "/usr/local/lib/python3.6/dist-packages/sklearn/svm/_base.py:947: ConvergenceWarning: Liblinear failed to converge, increase the number of iterations.\n",
            "  \"the number of iterations.\", ConvergenceWarning)\n"
          ],
          "name": "stderr"
        }
      ]
    },
    {
      "cell_type": "code",
      "metadata": {
        "id": "nhsYQ6rZYmxU"
      },
      "source": [
        ""
      ],
      "execution_count": null,
      "outputs": []
    }
  ]
}